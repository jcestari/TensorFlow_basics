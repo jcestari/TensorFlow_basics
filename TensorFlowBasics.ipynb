{
 "cells": [
  {
   "cell_type": "code",
   "execution_count": 1,
   "metadata": {},
   "outputs": [],
   "source": [
    "import tensorflow as tf\n"
   ]
  },
  {
   "cell_type": "code",
   "execution_count": 2,
   "metadata": {},
   "outputs": [
    {
     "name": "stdout",
     "output_type": "stream",
     "text": [
      "30.0\n"
     ]
    }
   ],
   "source": [
    "# Launch the graph in a session.\n",
    "with tf.compat.v1.Session() as ses:\n",
    "\n",
    "     # Build a graph.\n",
    "     a = tf.constant(5.0)\n",
    "     b = tf.constant(6.0)\n",
    "     op = a * b\n",
    "\n",
    "     # Evaluate \n",
    "     print(ses.run(op))"
   ]
  },
  {
   "cell_type": "code",
   "execution_count": 3,
   "metadata": {},
   "outputs": [],
   "source": [
    "d = tf.constant([3,1,5,8,6]) #1xn\n",
    "\n",
    "e = tf.constant([[2,5,4], [3,5,7]]) #nxn\n",
    "e2 = tf.constant([[1,2], [3,1,], [6,8]])\n",
    "\n",
    "#d é um tensor  1-dimensional (vetor)\n",
    "#e é um tensor 2-dimensional (matriz)\n",
    "\n",
    "import numpy as np\n",
    "a1 = np.array(2)\n",
    "b2 = np.array([3,1,5,8,6]) #1xn\n",
    "c3 = np.array([[2,2,4], [3,5,7]]) #nxn\n"
   ]
  },
  {
   "cell_type": "code",
   "execution_count": 4,
   "metadata": {},
   "outputs": [
    {
     "name": "stdout",
     "output_type": "stream",
     "text": [
      "tf.Tensor(\n",
      "[[2 5 4]\n",
      " [3 5 7]], shape=(2, 3), dtype=int32)\n"
     ]
    }
   ],
   "source": [
    "print(e) #2lines 3columns"
   ]
  },
  {
   "cell_type": "code",
   "execution_count": 5,
   "metadata": {},
   "outputs": [
    {
     "data": {
      "text/plain": [
       "TensorShape([2, 3])"
      ]
     },
     "execution_count": 5,
     "metadata": {},
     "output_type": "execute_result"
    }
   ],
   "source": [
    "e.shape"
   ]
  },
  {
   "cell_type": "code",
   "execution_count": 6,
   "metadata": {},
   "outputs": [],
   "source": [
    "\n",
    "\n",
    "\n",
    "\n",
    "#MULTIPLICANDO MATRIZES\n",
    "\n",
    "multmatrices = tf.matmul(e,e2)"
   ]
  },
  {
   "cell_type": "code",
   "execution_count": 7,
   "metadata": {},
   "outputs": [
    {
     "name": "stdout",
     "output_type": "stream",
     "text": [
      "tf.Tensor(\n",
      "[[41 41]\n",
      " [60 67]], shape=(2, 2), dtype=int32)\n"
     ]
    }
   ],
   "source": [
    "print(multmatrices)"
   ]
  },
  {
   "cell_type": "code",
   "execution_count": 8,
   "metadata": {},
   "outputs": [],
   "source": [
    "\n",
    "\n",
    "\n",
    "\n",
    "#TRANSPOR A MATRIZ\n",
    "transposta = tf.transpose(e)"
   ]
  },
  {
   "cell_type": "code",
   "execution_count": 9,
   "metadata": {},
   "outputs": [
    {
     "name": "stdout",
     "output_type": "stream",
     "text": [
      "tf.Tensor(\n",
      "[[2 3]\n",
      " [5 5]\n",
      " [4 7]], shape=(3, 2), dtype=int32)\n"
     ]
    }
   ],
   "source": [
    "print(transposta)"
   ]
  },
  {
   "cell_type": "code",
   "execution_count": 10,
   "metadata": {},
   "outputs": [
    {
     "name": "stdout",
     "output_type": "stream",
     "text": [
      "2\r\n"
     ]
    }
   ],
   "source": [
    "\n",
    "\n",
    "\n",
    "\n",
    "#CRIANDO UMA VARIÁVEL QUE POSSA SER ATUALIZADA\n",
    "variavel = tf.Variable(2)\n",
    "tf.print(variavel)\n"
   ]
  },
  {
   "cell_type": "code",
   "execution_count": 11,
   "metadata": {},
   "outputs": [
    {
     "name": "stdout",
     "output_type": "stream",
     "text": [
      "<tf.Variable 'Variable:0' shape=(3, 3) dtype=float32, numpy=\n",
      "array([[8.641018 , 8.7560215, 9.414833 ],\n",
      "       [8.148362 , 8.830062 , 7.1232753],\n",
      "       [8.053048 , 6.952537 , 8.853811 ]], dtype=float32)>\n"
     ]
    }
   ],
   "source": [
    "matriz = tf.random.normal([3,3], 8, 1, tf.float32)   # shape [3,3] média = 8  desvio padrão = 1) dtype= float32\n",
    "variavel2 = tf.Variable(matriz)\n",
    "print(variavel2)"
   ]
  },
  {
   "cell_type": "code",
   "execution_count": 15,
   "metadata": {},
   "outputs": [
    {
     "name": "stdout",
     "output_type": "stream",
     "text": [
      "7.896382\n"
     ]
    }
   ],
   "source": [
    "dados_x = np.random.randn(4,8)   # cria matriz de 4 linhas e 8 colunas com números aleatórios\n",
    "dados_w = np.random.randn(8,2)   # cria matriz de 8 linhas e 2 colunas com números aleatórios\n",
    "import tensorflow.compat.v1 as tf\n",
    "tf.disable_v2_behavior()\n",
    "\n",
    "b = tf.random.normal((4,2),0,1)   # cria matriz (tensor) de 4 linhas e 2 colunas com números aleatórios\n",
    "\n",
    "x = tf.placeholder(tf.float32, shape=(4, 8))\n",
    "w = tf.placeholder(tf.float32, shape=(8, 2))\n",
    "operacao = tf.matmul(x, w) + b\n",
    "\n",
    "maximo = tf.reduce_max(operacao) # encontra o maior valor da matriz operacao\n",
    "\n",
    "with tf.Session() as sess:\n",
    "        saida1 = sess.run(operacao, feed_dict={x: dados_x, w: dados_w})\n",
    "        saida2 = sess.run(maximo, feed_dict={x: dados_x, w: dados_w}) \n",
    "print(saida2)\n",
    "\n",
    "\n",
    "\n"
   ]
  },
  {
   "cell_type": "code",
   "execution_count": 14,
   "metadata": {},
   "outputs": [
    {
     "name": "stdout",
     "output_type": "stream",
     "text": [
      "[[ 1.1744788   2.3344932 ]\n",
      " [-3.9109402   0.2309158 ]\n",
      " [ 2.0460591  -4.3584027 ]\n",
      " [ 0.25934982  3.9064217 ]]\n"
     ]
    }
   ],
   "source": [
    "print(saida1)"
   ]
  },
  {
   "cell_type": "code",
   "execution_count": 16,
   "metadata": {},
   "outputs": [
    {
     "name": "stdout",
     "output_type": "stream",
     "text": [
      "[8.6741905, 3.767013, 5.086779, 4.8658466, 1.0302074]\n"
     ]
    }
   ],
   "source": [
    "import numpy as np\n",
    "\n",
    "x1 = np.random.randn(4,8)  \n",
    "w1 = np.random.randn(8,2)  \n",
    "\n",
    "x2 = np.random.randn(4,8)  \n",
    "w2 = np.random.randn(8,2)\n",
    "\n",
    "x3 = np.random.randn(10,3)  \n",
    "w3 = np.random.randn(3,1)\n",
    "\n",
    "x4 = np.random.randn(4,8)  \n",
    "w4 = np.random.randn(8,2)\n",
    "\n",
    "x5 = np.random.randn(4,8)  \n",
    "w5 = np.random.randn(8,2)\n",
    "\n",
    "lista_x = [x1, x2, x3, x4, x5]\n",
    "lista_w = [w1, w2, w3, w4, w5]\n",
    "lista_saida = []\n",
    "\n",
    "b = tf.random_normal((4,2),0,1)   # cria matriz (tensor) de 4 linhas e 2 colunas com números aleatórios\n",
    "\n",
    "x = tf.placeholder(tf.float32, shape=(None, None))\n",
    "w = tf.placeholder(tf.float32, shape=(None, None))\n",
    "operacao = tf.matmul(x, w)\n",
    "\n",
    "maximo = tf.reduce_max(operacao) # encontra o maior valor da matriz operacao\n",
    "\n",
    "with tf.Session() as sess:\n",
    "    for i in range(5):\n",
    "        saida = sess.run(maximo, feed_dict={x: lista_x[i], w: lista_w[i]})\n",
    "        lista_saida.append(saida)\n",
    "print(lista_saida)"
   ]
  },
  {
   "cell_type": "code",
   "execution_count": null,
   "metadata": {},
   "outputs": [],
   "source": []
  }
 ],
 "metadata": {
  "kernelspec": {
   "display_name": "Python 3",
   "language": "python",
   "name": "python3"
  },
  "language_info": {
   "codemirror_mode": {
    "name": "ipython",
    "version": 3
   },
   "file_extension": ".py",
   "mimetype": "text/x-python",
   "name": "python",
   "nbconvert_exporter": "python",
   "pygments_lexer": "ipython3",
   "version": "3.8.5"
  }
 },
 "nbformat": 4,
 "nbformat_minor": 4
}
